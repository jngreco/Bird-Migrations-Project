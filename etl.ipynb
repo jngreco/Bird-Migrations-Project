{
 "cells": [
  {
   "cell_type": "code",
   "execution_count": 6,
   "metadata": {},
   "outputs": [],
   "source": [
    "import sqlite3\n",
    "import csv\n",
    "\n",
    "db_name = \"birds_db_2\"\n",
    "conn = sqlite3.connect(db_name)\n",
    "cursor = conn.cursor()\n",
    "cursor.execute('''\n",
    "    CREATE TABLE IF NOT EXISTS birds (\n",
    "        COMMON_NAME TEXT,\n",
    "        SCIENTIFIC_NAME TEXT,\n",
    "        OBSERVATION_COUNT TEXT,\n",
    "        COUNTRY TEXT,\n",
    "        STATE TEXT,\n",
    "        COUNTY TEXT,\n",
    "        LOCALITY TEXT,\n",
    "        LATITUDE_REAL,\n",
    "        LONGITUDE_REAL,\n",
    "        OBSERVATION_DATE TEXT,\n",
    "        TIME OBSERVATIONS STARTED,\n",
    "        PROTOCOL_TYPE TEXT,\n",
    "        PROTOCOL_CODE TEXT,\n",
    "        REVIEWED TEXT\n",
    "    )\n",
    "''')\n",
    "csv_file_path = \"birddata.csv\"\n",
    "placeholders = ', '.join(['?' for _ in range(14)])\n",
    "sql_command = f\"INSERT INTO birds VALUES ({placeholders})\"\n",
    "with open(csv_file_path, 'r', encoding='utf-8') as file:\n",
    "    reader = csv.reader(file)\n",
    "    next(reader)  # Skip the header row\n",
    "    for row in reader:\n",
    "        # cursor.execute(\"INSERT INTO table_name VALUES (?, ?, ?)\", row)\n",
    "        rows = [row for row in reader]\n",
    "cursor.executemany(sql_command, rows)\n",
    "conn.commit()\n",
    "conn.close()"
   ]
  },
  {
   "cell_type": "code",
   "execution_count": null,
   "metadata": {},
   "outputs": [],
   "source": []
  },
  {
   "cell_type": "code",
   "execution_count": null,
   "metadata": {},
   "outputs": [],
   "source": []
  }
 ],
 "metadata": {
  "kernelspec": {
   "display_name": "Python 3 (ipykernel)",
   "language": "python",
   "name": "python3"
  },
  "language_info": {
   "codemirror_mode": {
    "name": "ipython",
    "version": 3
   },
   "file_extension": ".py",
   "mimetype": "text/x-python",
   "name": "python",
   "nbconvert_exporter": "python",
   "pygments_lexer": "ipython3",
   "version": "3.9.13"
  }
 },
 "nbformat": 4,
 "nbformat_minor": 4
}
